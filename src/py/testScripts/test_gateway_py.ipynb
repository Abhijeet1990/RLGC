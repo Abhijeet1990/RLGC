{
 "cells": [
  {
   "cell_type": "code",
   "execution_count": 52,
   "metadata": {},
   "outputs": [
    {
     "name": "stdout",
     "output_type": "stream",
     "text": [
      "C:\\Users\\huan289\\git\\deepgrid\\DeepGrid\n",
      "<class 'py4j.java_collections.JavaArray'>\n",
      "<class 'int'>\n"
     ]
    }
   ],
   "source": [
    "from py4j.java_gateway import JavaGateway\n",
    "from py4j.java_gateway import GatewayParameters\n",
    "\n",
    "import os\n",
    "folder_dir = 'C:\\\\Users\\huan289\\\\git\\\\deepgrid\\\\DeepGrid'\n",
    "os.chdir(folder_dir)\n",
    "\n",
    "print(os.getcwd())\n",
    "\n",
    "gateway = JavaGateway(gateway_parameters=GatewayParameters(auto_convert=True))\n",
    "ipss_app = gateway.entry_point\n",
    "\n",
    "\n",
    "\n",
    "# case_files = ['testData\\\\Kundur-2area\\\\kunder_2area_ver30.raw','testData\\\\Kundur-2area\\\\kunder_2area.dyr']\n",
    "# Need to use the following way to define a String array in Python for Py4J\n",
    "case_files_array = gateway.new_array(gateway.jvm.String, 2)\n",
    "case_files_array[0] = 'testData\\\\Kundur-2area\\\\kunder_2area_ver30.raw'\n",
    "case_files_array[1] = 'testData\\\\Kundur-2area\\\\kunder_2area.dyr'\n",
    "\n",
    "dyn_config_file = 'testData\\\\Kundur-2area\\\\json\\\\kundur2area_dyn_config.json'\n",
    "\n",
    "rl_config_file = 'testData\\\\Kundur-2area\\\\json\\\\kundur2area_RL_config.json'\n",
    "\n",
    "ob_act_dim_ary = ipss_app.initStudyCase(case_files_array , dyn_config_file, rl_config_file)\n",
    "\n",
    "x = ob_act_dim_ary[0]\n",
    "print (type(ob_act_dim_ary))\n",
    "print(type(x))\n",
    "#x = ob_act_dim_ary[1]\n",
    "#print (x)\n",
    "\n",
    "#for x in ob_act_dim_ary:\n",
    "#    print(x)"
   ]
  },
  {
   "cell_type": "code",
   "execution_count": 6,
   "metadata": {},
   "outputs": [
    {
     "name": "stdout",
     "output_type": "stream",
     "text": [
      "C:\\Users\\huan289\\git\\deepgrid\\DeepGrid\n"
     ]
    }
   ],
   "source": [
    "print(os.getcwd())\n",
    "import sys\n",
    "sys.path.append(os.getcwd()+\"\\src\\py\")"
   ]
  },
  {
   "cell_type": "code",
   "execution_count": 38,
   "metadata": {},
   "outputs": [],
   "source": [
    "from PowerDynSimEnvDef import PowerDynSimEnv"
   ]
  },
  {
   "cell_type": "code",
   "execution_count": 36,
   "metadata": {},
   "outputs": [
    {
     "data": {
      "text/plain": [
       "-0.0"
      ]
     },
     "execution_count": 36,
     "metadata": {},
     "output_type": "execute_result"
    }
   ],
   "source": [
    "r = ipss_app.getReward()\n",
    "r"
   ]
  },
  {
   "cell_type": "code",
   "execution_count": 39,
   "metadata": {
    "collapsed": true
   },
   "outputs": [],
   "source": [
    "import gym\n",
    "from gym import spaces\n",
    "from gym.utils import seeding"
   ]
  },
  {
   "cell_type": "code",
   "execution_count": 59,
   "metadata": {
    "collapsed": true
   },
   "outputs": [],
   "source": [
    "from PowerDynSimEnvDef import PowerDynSimEnv"
   ]
  },
  {
   "cell_type": "code",
   "execution_count": 61,
   "metadata": {},
   "outputs": [
    {
     "name": "stdout",
     "output_type": "stream",
     "text": [
      "where iam\n",
      "<class 'py4j.java_collections.JavaArray'>\n",
      "have i\n"
     ]
    },
    {
     "ename": "NameError",
     "evalue": "name 'action_space_dim' is not defined",
     "output_type": "error",
     "traceback": [
      "\u001b[1;31m---------------------------------------------------------------------------\u001b[0m",
      "\u001b[1;31mNameError\u001b[0m                                 Traceback (most recent call last)",
      "\u001b[1;32m<ipython-input-61-8fcd77b27294>\u001b[0m in \u001b[0;36m<module>\u001b[1;34m()\u001b[0m\n\u001b[1;32m----> 1\u001b[1;33m \u001b[0menv\u001b[0m \u001b[1;33m=\u001b[0m \u001b[0mPowerDynSimEnv\u001b[0m\u001b[1;33m(\u001b[0m\u001b[0mcase_files_array\u001b[0m\u001b[1;33m,\u001b[0m\u001b[0mdyn_config_file\u001b[0m\u001b[1;33m,\u001b[0m\u001b[0mrl_config_file\u001b[0m\u001b[1;33m)\u001b[0m\u001b[1;33m\u001b[0m\u001b[0m\n\u001b[0m",
      "\u001b[1;32mC:\\Users\\huan289\\git\\deepgrid\\DeepGrid\\src\\py\\PowerDynSimEnvDef.py\u001b[0m in \u001b[0;36m__init__\u001b[1;34m(self, case_files, dyn_sim_config_file, rl_config_file)\u001b[0m\n\u001b[0;32m     50\u001b[0m         \u001b[0mprint\u001b[0m\u001b[1;33m(\u001b[0m\u001b[0maction_space_dim\u001b[0m\u001b[1;33m)\u001b[0m\u001b[1;33m\u001b[0m\u001b[0m\n\u001b[0;32m     51\u001b[0m         \u001b[0mobservation_space_dim\u001b[0m \u001b[1;33m=\u001b[0m  \u001b[0mdim_ary\u001b[0m\u001b[1;33m[\u001b[0m\u001b[1;36m1\u001b[0m\u001b[1;33m]\u001b[0m\u001b[1;33m\u001b[0m\u001b[0m\n\u001b[1;32m---> 52\u001b[1;33m         \u001b[1;31m#define action and observation spaces\u001b[0m\u001b[1;33m\u001b[0m\u001b[1;33m\u001b[0m\u001b[0m\n\u001b[0m\u001b[0;32m     53\u001b[0m         \u001b[0mself\u001b[0m\u001b[1;33m.\u001b[0m\u001b[0maction_space\u001b[0m      \u001b[1;33m=\u001b[0m \u001b[0mspaces\u001b[0m\u001b[1;33m.\u001b[0m\u001b[0mDiscrete\u001b[0m\u001b[1;33m(\u001b[0m\u001b[0maction_space_dim\u001b[0m\u001b[1;33m)\u001b[0m \u001b[1;31m# Continuous\u001b[0m\u001b[1;33m\u001b[0m\u001b[0m\n\u001b[0;32m     54\u001b[0m         \u001b[0mself\u001b[0m\u001b[1;33m.\u001b[0m\u001b[0mobservation_space\u001b[0m \u001b[1;33m=\u001b[0m \u001b[0mspaces\u001b[0m\u001b[1;33m.\u001b[0m\u001b[0mBox\u001b[0m\u001b[1;33m(\u001b[0m\u001b[1;33m-\u001b[0m\u001b[1;36m999\u001b[0m\u001b[1;33m,\u001b[0m\u001b[1;36m999\u001b[0m\u001b[1;33m,\u001b[0m\u001b[0mshape\u001b[0m\u001b[1;33m=\u001b[0m\u001b[1;33m(\u001b[0m\u001b[0mobservation_space_dim\u001b[0m\u001b[1;33m,\u001b[0m\u001b[0mobservation_space_dim\u001b[0m\u001b[1;33m)\u001b[0m\u001b[1;33m)\u001b[0m \u001b[1;31m# Continuous\u001b[0m\u001b[1;33m\u001b[0m\u001b[0m\n",
      "\u001b[1;31mNameError\u001b[0m: name 'action_space_dim' is not defined"
     ]
    }
   ],
   "source": [
    "env = PowerDynSimEnv(case_files_array,dyn_config_file,rl_config_file)"
   ]
  },
  {
   "cell_type": "code",
   "execution_count": null,
   "metadata": {
    "collapsed": true
   },
   "outputs": [],
   "source": []
  },
  {
   "cell_type": "code",
   "execution_count": null,
   "metadata": {
    "collapsed": true
   },
   "outputs": [],
   "source": []
  }
 ],
 "metadata": {
  "kernelspec": {
   "display_name": "Python 3",
   "language": "python",
   "name": "python3"
  },
  "language_info": {
   "codemirror_mode": {
    "name": "ipython",
    "version": 3
   },
   "file_extension": ".py",
   "mimetype": "text/x-python",
   "name": "python",
   "nbconvert_exporter": "python",
   "pygments_lexer": "ipython3",
   "version": "3.6.1"
  }
 },
 "nbformat": 4,
 "nbformat_minor": 2
}
